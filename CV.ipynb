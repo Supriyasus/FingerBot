{
 "cells": [
  {
   "cell_type": "markdown",
   "id": "90872afd-c2ba-4f5b-9448-b9060166dfd5",
   "metadata": {},
   "source": [
    "Memory always stores with associative memory i.e. with a reference. System function is used to open different software on your pc. VideoCapture(0) references to your pc camera"
   ]
  },
  {
   "cell_type": "code",
   "execution_count": 1,
   "id": "94afb83e-4254-410d-bd97-54543e2f1ce0",
   "metadata": {},
   "outputs": [],
   "source": [
    "import cv2\n",
    "import cvzone\n",
    "import mediapipe as mp"
   ]
  },
  {
   "cell_type": "code",
   "execution_count": 2,
   "id": "a1bb28fe-030a-4d60-b031-14253387e95b",
   "metadata": {},
   "outputs": [],
   "source": [
    "cap=cv2.VideoCapture(0)"
   ]
  },
  {
   "cell_type": "code",
   "execution_count": 3,
   "id": "2875ebf9-b871-41c9-9b3e-583873478d45",
   "metadata": {},
   "outputs": [],
   "source": [
    "status,photo=cap.read()"
   ]
  },
  {
   "cell_type": "code",
   "execution_count": 4,
   "id": "05844bc2-943e-4601-a714-415916606a55",
   "metadata": {},
   "outputs": [],
   "source": [
    "cap.release()"
   ]
  },
  {
   "cell_type": "code",
   "execution_count": 5,
   "id": "4ce5a7d0-f5b9-4bb1-afac-d021a3d278ea",
   "metadata": {},
   "outputs": [],
   "source": [
    "cv2.imshow(\"My photo\",photo)\n",
    "cv2.waitKey(10000)\n",
    "cv2.destroyAllWindows() "
   ]
  },
  {
   "cell_type": "code",
   "execution_count": 6,
   "id": "5913b025-fb4f-4f17-a9be-478de8fe24c4",
   "metadata": {},
   "outputs": [],
   "source": [
    "from cvzone.HandTrackingModule import HandDetector"
   ]
  },
  {
   "cell_type": "code",
   "execution_count": 7,
   "id": "c8709d2f-0eb2-4369-91de-d5428bb9620e",
   "metadata": {},
   "outputs": [],
   "source": [
    "detector=HandDetector()"
   ]
  },
  {
   "cell_type": "code",
   "execution_count": 8,
   "id": "585612b6-8a95-4783-b438-25f96b322a6a",
   "metadata": {},
   "outputs": [],
   "source": [
    "myhand=detector.findHands(photo)"
   ]
  },
  {
   "cell_type": "code",
   "execution_count": 9,
   "id": "c1a14aea-079d-4a4a-9993-85380eff2321",
   "metadata": {},
   "outputs": [
    {
     "data": {
      "text/plain": [
       "([{'lmList': [[373, 488, 0],\n",
       "    [345, 468, -43],\n",
       "    [340, 427, -59],\n",
       "    [393, 395, -68],\n",
       "    [438, 374, -76],\n",
       "    [340, 342, -37],\n",
       "    [320, 275, -55],\n",
       "    [311, 232, -69],\n",
       "    [303, 193, -81],\n",
       "    [380, 332, -34],\n",
       "    [379, 254, -49],\n",
       "    [380, 208, -64],\n",
       "    [379, 168, -73],\n",
       "    [413, 344, -37],\n",
       "    [433, 278, -63],\n",
       "    [441, 236, -85],\n",
       "    [444, 192, -99],\n",
       "    [441, 376, -41],\n",
       "    [452, 341, -68],\n",
       "    [443, 363, -73],\n",
       "    [433, 389, -75]],\n",
       "   'bbox': (303, 168, 149, 320),\n",
       "   'center': (377, 328),\n",
       "   'type': 'Left'}],\n",
       " array([[[152, 179, 175],\n",
       "         [150, 177, 173],\n",
       "         [149, 175, 171],\n",
       "         ...,\n",
       "         [166, 161, 162],\n",
       "         [166, 161, 162],\n",
       "         [169, 164, 165]],\n",
       " \n",
       "        [[151, 177, 173],\n",
       "         [151, 176, 172],\n",
       "         [150, 175, 171],\n",
       "         ...,\n",
       "         [164, 161, 161],\n",
       "         [158, 156, 156],\n",
       "         [156, 154, 154]],\n",
       " \n",
       "        [[153, 175, 173],\n",
       "         [153, 175, 173],\n",
       "         [152, 174, 172],\n",
       "         ...,\n",
       "         [156, 155, 155],\n",
       "         [151, 151, 151],\n",
       "         [149, 149, 149]],\n",
       " \n",
       "        ...,\n",
       " \n",
       "        [[ 12,  26,  24],\n",
       "         [ 11,  25,  23],\n",
       "         [ 10,  25,  23],\n",
       "         ...,\n",
       "         [ 17,  24,  20],\n",
       "         [ 14,  21,  19],\n",
       "         [ 14,  21,  20]],\n",
       " \n",
       "        [[ 11,  27,  24],\n",
       "         [ 11,  27,  24],\n",
       "         [ 10,  27,  24],\n",
       "         ...,\n",
       "         [ 13,  21,  20],\n",
       "         [ 11,  19,  21],\n",
       "         [ 11,  19,  22]],\n",
       " \n",
       "        [[  9,  26,  23],\n",
       "         [  9,  26,  23],\n",
       "         [ 10,  27,  24],\n",
       "         ...,\n",
       "         [ 13,  22,  22],\n",
       "         [ 12,  20,  23],\n",
       "         [ 12,  21,  25]]], dtype=uint8))"
      ]
     },
     "execution_count": 9,
     "metadata": {},
     "output_type": "execute_result"
    }
   ],
   "source": [
    "myhand"
   ]
  },
  {
   "cell_type": "code",
   "execution_count": 10,
   "id": "c4151cb8-aee2-4b1c-8c8b-b941db8511f7",
   "metadata": {},
   "outputs": [
    {
     "data": {
      "text/plain": [
       "{'lmList': [[373, 488, 0],\n",
       "  [345, 468, -43],\n",
       "  [340, 427, -59],\n",
       "  [393, 395, -68],\n",
       "  [438, 374, -76],\n",
       "  [340, 342, -37],\n",
       "  [320, 275, -55],\n",
       "  [311, 232, -69],\n",
       "  [303, 193, -81],\n",
       "  [380, 332, -34],\n",
       "  [379, 254, -49],\n",
       "  [380, 208, -64],\n",
       "  [379, 168, -73],\n",
       "  [413, 344, -37],\n",
       "  [433, 278, -63],\n",
       "  [441, 236, -85],\n",
       "  [444, 192, -99],\n",
       "  [441, 376, -41],\n",
       "  [452, 341, -68],\n",
       "  [443, 363, -73],\n",
       "  [433, 389, -75]],\n",
       " 'bbox': (303, 168, 149, 320),\n",
       " 'center': (377, 328),\n",
       " 'type': 'Left'}"
      ]
     },
     "execution_count": 10,
     "metadata": {},
     "output_type": "execute_result"
    }
   ],
   "source": [
    "mylmlist=myhand[0][0]\n",
    "mylmlist"
   ]
  },
  {
   "cell_type": "code",
   "execution_count": 11,
   "id": "2bc17ff8-07ff-4877-9392-92508aba3511",
   "metadata": {},
   "outputs": [
    {
     "data": {
      "text/plain": [
       "[0, 1, 1, 1, 0]"
      ]
     },
     "execution_count": 11,
     "metadata": {},
     "output_type": "execute_result"
    }
   ],
   "source": [
    "myfinger=detector.fingersUp(mylmlist)\n",
    "myfinger"
   ]
  },
  {
   "cell_type": "code",
   "execution_count": 12,
   "id": "dba02bc5-b78a-491f-84d5-ec860a053c65",
   "metadata": {},
   "outputs": [],
   "source": [
    "import os"
   ]
  },
  {
   "cell_type": "code",
   "execution_count": 13,
   "id": "c0e56b8c-ac58-47cd-beba-ac9a2af80a7b",
   "metadata": {},
   "outputs": [],
   "source": [
    "count=0\n",
    "for fingers in myfinger:\n",
    "    if fingers==1:\n",
    "        count+=1"
   ]
  },
  {
   "cell_type": "code",
   "execution_count": 14,
   "id": "f27e883b-8ac9-4b2c-b156-22b48e2677c4",
   "metadata": {},
   "outputs": [],
   "source": [
    "if count==5:\n",
    "    os.system(\"notepad\")\n",
    "elif count==4:\n",
    "    os.system(\"camera\")\n",
    "elif count==3:\n",
    "    os.system(\"start cmd\")\n",
    "elif count==2:\n",
    "    os.system(\"start msedge\")\n",
    "elif count==1:\n",
    "    os.system(\"start outlookcal:\")\n",
    "else:\n",
    "    print(\"No hands detected.\")"
   ]
  }
 ],
 "metadata": {
  "kernelspec": {
   "display_name": "Python 3 (ipykernel)",
   "language": "python",
   "name": "python3"
  },
  "language_info": {
   "codemirror_mode": {
    "name": "ipython",
    "version": 3
   },
   "file_extension": ".py",
   "mimetype": "text/x-python",
   "name": "python",
   "nbconvert_exporter": "python",
   "pygments_lexer": "ipython3",
   "version": "3.11.7"
  }
 },
 "nbformat": 4,
 "nbformat_minor": 5
}
